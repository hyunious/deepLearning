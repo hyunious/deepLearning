{
 "cells": [
  {
   "metadata": {},
   "cell_type": "code",
   "source": "!nvidia-smi",
   "id": "82d3dabbcb68d2aa",
   "outputs": [],
   "execution_count": null
  },
  {
   "metadata": {},
   "cell_type": "markdown",
   "source": "### Comparing Accuracy with Batch Size",
   "id": "4d563d0c11d6fd86"
  },
  {
   "metadata": {},
   "cell_type": "markdown",
   "source": [
    "배치 크기가 검증 정확도에 미치는 영향을 확인하려면 여러 배치 크기를 시도해 보십시오.\n",
    "\n",
    "배치 크기가 특히 낮거나 높을 때 어떤 일이 발생하는지 확인하세요.\n",
    "\n",
    "결과의 일관성을 평가하려면 동일한 배치 크기로 학습을 1회 또는 여러 번 반복하는 것이 좋습니다."
   ],
   "id": "66b5fccdd4dd03ae"
  },
  {
   "metadata": {
    "jupyter": {
     "is_executing": true
    }
   },
   "cell_type": "code",
   "source": "!python3 fashion_mnist.py --node-id 0 --num-gpus 2 --num-nodes 1  --epochs 10 --batch-size 8",
   "id": "64a44d92e7ac800f",
   "outputs": [],
   "execution_count": null
  },
  {
   "metadata": {
    "jupyter": {
     "is_executing": true
    }
   },
   "cell_type": "code",
   "source": "!python3 fashion_mnist.py --node-id 0 --num-gpus 2 --num-nodes 1  --epochs 10 --batch-size 16",
   "id": "bdc8aae6929eca37",
   "outputs": [],
   "execution_count": null
  },
  {
   "metadata": {},
   "cell_type": "code",
   "source": "!python3 fashion_mnist.py --node-id 0 --num-gpus 2 --num-nodes 1  --epochs 10 --batch-size 32",
   "id": "1a415da58acbc907",
   "outputs": [],
   "execution_count": null
  },
  {
   "metadata": {},
   "cell_type": "code",
   "source": "!python3 fashion_mnist.py --node-id 0 --num-gpus 2 --num-nodes 1  --epochs 10 --batch-size 64",
   "id": "990c6a7bf490549",
   "outputs": [],
   "execution_count": null
  },
  {
   "metadata": {},
   "cell_type": "code",
   "source": "!python3 fashion_mnist.py --node-id 0 --num-gpus 2 --num-nodes 1  --epochs 10 --batch-size 128",
   "id": "146efd023ae51a25",
   "outputs": [],
   "execution_count": null
  },
  {
   "metadata": {},
   "cell_type": "code",
   "source": "!python3 fashion_mnist.py --node-id 0 --num-gpus 2 --num-nodes 1  --epochs 10 --batch-size 256",
   "id": "a75d9f9fb1e67504",
   "outputs": [],
   "execution_count": null
  },
  {
   "metadata": {},
   "cell_type": "markdown",
   "source": "### Result Report",
   "id": "b0bb1ebeade5922a"
  },
  {
   "metadata": {},
   "cell_type": "markdown",
   "source": [
    "결과를 통해 매우 작거나 큰 배치 크기는 수렴에 적합하지 않을 수 있다는 것을 볼 수 있었습니다(응용 및 환경에 따라 다를 수 있음).\n",
    "매우 작은 배치는 손실 함수의 최소값으로 적절하게 수렴하기에 너무 요동치는 경향이 있는 있을 수 있는 반면, 매우 큰 배치는 훈련 초기 부분에서 잘 못 분기(로컬 최소화)되는 경향이 있을 수 있습니다.\n",
    "그러나 결과에 무작위성이 많고 일반화하기가 어렵다는 점도 보입니다. 이번 결과를 통해 분석된 내용을 모든 모델과 데이터 세트에 동일하게 적용할 수는 없습니다.\n",
    "따러서 신경망 최적화 프로세스에 대한 다양한 직관을 구축하는 것이 중요하며, 다양한 최적화 방식을 적용 분석하는 것이 필요합니다."
   ],
   "id": "e4f8634195f5110e"
  },
  {
   "metadata": {},
   "cell_type": "markdown",
   "source": "### Critical Batch Size 와 Gradient Noise Scale",
   "id": "80f7c6d0dbfbb542"
  },
  {
   "metadata": {},
   "cell_type": "markdown",
   "source": [
    "##### <span style=\"color:red\">Critical batch size</span> 란 모델을 학습시킬 때 최적의 batch size를 의미하며, 모델의 성능을 극대화하는데 중요한 역할을 합니다.\n",
    "Critical batch size를 넘어가게 되면 학습 속도가 둔화되거나 성능이 저하될 수 있습니다.\n",
    "<br />\n",
    "##### <span style=\"color:red\">Gradient noise scale</span>은 gradient descent 과정에서 추가되는 noise의 크기를 의미하며, 모델이 local minimum에 갇히지 않도록 도와줍니다.\n",
    "Gradient noise scale은 모델의 일반화 능력을 향상시키는 데 도움을 줄 수 있습니다."
   ],
   "id": "7231f1d68ad8f90b"
  },
  {
   "metadata": {},
   "cell_type": "markdown",
   "source": [
    "#### Critical batch size와 Gradient noise scale 간의 관계는 모델의 학습 속도와 안정성에 영향을 줄 수 있습니다.\n",
    "적절한 critical batch size와 gradient noise scale을 설정하면 모델이 더 빠르게 수렴하고 더 안정적인 결과를 얻을 수 있을 것입니다.\n",
    "이러한 요소들을 조정하는 것은 deep learning 모델을 개선하는데 중요한 과정이며, 최적의 설정을 찾기 위해 실험과 조정이 필요합니다."
   ],
   "id": "f85ab24df89288b"
  },
  {
   "metadata": {},
   "cell_type": "markdown",
   "source": "### 시간 경과에 따른 검증 정확도 비교",
   "id": "34bf33deb20d574c"
  },
  {
   "metadata": {},
   "cell_type": "markdown",
   "source": [
    "다양한 학습 간의 명확한 비교를 보여주기 위해 시간에 따른 네트워크의 검증 정확도를 그래프로 출력합니다.\n",
    "fashion_mnist.py의 계산되는 epoch 별 검증 정확도(validation accuracy)를 저장하는 함수를 구현한다."
   ],
   "id": "cc73598df5c1cf60"
  },
  {
   "metadata": {
    "ExecuteTime": {
     "end_time": "2024-11-30T06:41:31.327343Z",
     "start_time": "2024-11-30T06:41:31.173673Z"
    }
   },
   "cell_type": "code",
   "source": [
    "# 참고용으로 필요할 경우를 고려하여 ddp 기능 파일을 복사한다.\n",
    "!cp fashion_mnist.py fashion_mnist_ddp_original.py"
   ],
   "id": "e49205d990e5e74a",
   "outputs": [],
   "execution_count": 6
  },
  {
   "metadata": {
    "ExecuteTime": {
     "end_time": "2024-11-30T06:38:47.066291Z",
     "start_time": "2024-11-30T06:38:46.918533Z"
    }
   },
   "cell_type": "code",
   "outputs": [
    {
     "name": "stdout",
     "output_type": "stream",
     "text": [
      "mkdir: training_data: File exists\r\n"
     ]
    }
   ],
   "execution_count": 5,
   "source": [
    "# training 상태를 저장하는 폴더를 생성한다.\n",
    "!mkdir training_data"
   ],
   "id": "3bf1b13af4fd4224"
  },
  {
   "metadata": {},
   "cell_type": "code",
   "outputs": [],
   "execution_count": null,
   "source": "",
   "id": "745d860d4e569e83"
  }
 ],
 "metadata": {
  "kernelspec": {
   "name": "python3",
   "language": "python",
   "display_name": "Python 3 (ipykernel)"
  }
 },
 "nbformat": 5,
 "nbformat_minor": 9
}
