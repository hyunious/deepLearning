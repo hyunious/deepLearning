{
 "cells": [
  {
   "cell_type": "markdown",
   "metadata": {},
   "source": [
    "## Name Based Country Classification"
   ]
  },
  {
   "cell_type": "markdown",
   "metadata": {},
   "source": [
    "#### 방법 2: 국적을 랜덤으로 선택한 뒤 그 국적 내 이름을 샘플링하여 학습함\n",
    "\n",
    "클래스 불균형 문제를 완하하기 위해 국적을 랜덤하게 선택한 후, 국적 내 이름 데이터를 샘플링하여 학습합니다. <br>\n",
    "(이를 위해 데이터를 국적별로 미리 분류하면 구현이 용이) \n",
    "<br>"
   ]
  },
  {
   "cell_type": "markdown",
   "metadata": {},
   "source": [
    "### One Hot Encoding 을 위해 사용된 문자셋을 얻음"
   ]
  },
  {
   "cell_type": "code",
   "execution_count": 2,
   "metadata": {},
   "outputs": [],
   "source": [
    "import pandas as pd\n",
    "from collections import Counter\n",
    "\n",
    "df = pd.read_csv('./name_country.csv')\n",
    "text_data = df['Name'].tolist()\n",
    "label_data = df['Country'].tolist()\n",
    "\n",
    "country_list = sorted(set(label_data))\n",
    "country_count = len(country_list)\n",
    "\n",
    "data_dict = {} #key-country, value - list of names\n",
    "for name, country in zip(text_data, label_data):\n",
    "    if country not in data_dict:\n",
    "        data_dict[country] = []\n",
    "    data_dict[country].append(name)"
   ]
  },
  {
   "cell_type": "markdown",
   "metadata": {},
   "source": [
    "### Name Character Sets"
   ]
  },
  {
   "cell_type": "code",
   "execution_count": 3,
   "metadata": {},
   "outputs": [
    {
     "name": "stdout",
     "output_type": "stream",
     "text": [
      " 'abcdefghijklmnopqrstuvwxyz\n"
     ]
    }
   ],
   "source": [
    "\n",
    "unique_chars = set()\n",
    "\n",
    "for name in df['Name']:\n",
    "    unique_chars.update(name)\n",
    "unique_chars = sorted(list(unique_chars))\n",
    "all_letters = ''.join(unique_chars)\n",
    "print(all_letters)"
   ]
  },
  {
   "cell_type": "markdown",
   "metadata": {},
   "source": [
    "###  Name to One-Hot Encoded Tensor\n"
   ]
  },
  {
   "cell_type": "code",
   "execution_count": 7,
   "metadata": {},
   "outputs": [],
   "source": [
    "\n",
    "import torch\n",
    "n_letters = len(all_letters)\n",
    "\n",
    "def nameToTensor(name):\n",
    "    tensor = torch.zeros(len(name), n_letters)\n",
    "    for char_idx, char in enumerate(name):\n",
    "        letter_idx = all_letters.find(char)\n",
    "        assert letter_idx != -1, f\"char is {name}, {char}\"\n",
    "        tensor[char_idx][letter_idx] = 1\n",
    "    return tensor"
   ]
  },
  {
   "cell_type": "markdown",
   "metadata": {},
   "source": [
    "### Create a RNN Model"
   ]
  },
  {
   "cell_type": "code",
   "execution_count": 5,
   "metadata": {},
   "outputs": [],
   "source": [
    "from xd_rnn import XD_RNN\n",
    "\n",
    "# 은닉층 수\n",
    "n_hidden = 32\n",
    "# 입력층 수, 은닉층 수, 출력층 수\n",
    "rnn_model = XD_RNN(n_letters, n_hidden, country_count)\n",
    "\n",
    "# 학습률\n",
    "learning_rate = 0.001\n",
    "# 학습 횟수\n",
    "iter_count = 100000\n",
    "\n",
    "# 학습 상태 출력 기준 횟수\n",
    "print_iter_count = 5000"
   ]
  },
  {
   "cell_type": "markdown",
   "metadata": {},
   "source": [
    "### Model Trainning"
   ]
  },
  {
   "cell_type": "code",
   "execution_count": 8,
   "metadata": {},
   "outputs": [
    {
     "name": "stdout",
     "output_type": "stream",
     "text": [
      "Iter idx 5000, Loss: 2.2129, Accuracy: 30.26%\n",
      "Iter idx 10000, Loss: 1.7333, Accuracy: 43.32%\n",
      "Iter idx 15000, Loss: 1.5715, Accuracy: 47.78%\n",
      "Iter idx 20000, Loss: 1.5079, Accuracy: 50.58%\n",
      "Iter idx 25000, Loss: 1.4242, Accuracy: 53.18%\n",
      "Iter idx 30000, Loss: 1.3796, Accuracy: 53.20%\n",
      "Iter idx 35000, Loss: 1.3315, Accuracy: 55.42%\n",
      "Iter idx 40000, Loss: 1.2754, Accuracy: 57.34%\n",
      "Iter idx 45000, Loss: 1.2345, Accuracy: 59.62%\n",
      "Iter idx 50000, Loss: 1.2300, Accuracy: 59.62%\n",
      "Iter idx 55000, Loss: 1.1748, Accuracy: 61.16%\n",
      "Iter idx 60000, Loss: 1.1836, Accuracy: 60.54%\n",
      "Iter idx 65000, Loss: 1.1740, Accuracy: 60.38%\n",
      "Iter idx 70000, Loss: 1.1375, Accuracy: 62.32%\n",
      "Iter idx 75000, Loss: 1.1207, Accuracy: 62.30%\n",
      "Iter idx 80000, Loss: 1.0506, Accuracy: 65.90%\n",
      "Iter idx 85000, Loss: 1.0747, Accuracy: 65.42%\n",
      "Iter idx 90000, Loss: 1.0488, Accuracy: 64.94%\n",
      "Iter idx 95000, Loss: 1.0398, Accuracy: 65.42%\n"
     ]
    }
   ],
   "source": [
    "import random\n",
    "import torch.nn as nn\n",
    "from torch.optim import Adam, SGD\n",
    "loss_fn = nn.CrossEntropyLoss()\n",
    "\n",
    "optimizer = Adam(rnn_model.parameters(), lr=0.001) #Adam 1.2647557258605\n",
    "iter_count = 100000\n",
    "crnt_loss = 0.\n",
    "correct_predictions = 0\n",
    "\n",
    "for iter_idx in range(iter_count):\n",
    "    rnn_model.train()\n",
    "    random_country = random.choice(list(data_dict.keys()))\n",
    "    random_name = random.choice(data_dict[random_country])\n",
    "\n",
    "    name_tensor = nameToTensor(random_name)\n",
    "    country_tensor = torch.tensor([country_list.index(random_country)], dtype=torch.long)\n",
    "    hidden = rnn_model.get_hidden()\n",
    "    rnn_model.zero_grad()\n",
    "\n",
    "    for char_idx in range(len(random_name)):\n",
    "        char_tensor = name_tensor[char_idx]\n",
    "        output, hidden = rnn_model(char_tensor[None,:],hidden)\n",
    "\n",
    "    loss = loss_fn(output, country_tensor)\n",
    "    loss.backward()\n",
    "    optimizer.step()\n",
    "\n",
    "    crnt_loss += loss.item()\n",
    "    predicted_index = torch.argmax(output, 1)\n",
    "    correct_predictions += (predicted_index == country_tensor).sum().item()\n",
    "\n",
    "    if iter_idx % 5000 == 0 and iter_idx != 0:\n",
    "        average_loss = crnt_loss / 5000\n",
    "        accuracy = 100 * correct_predictions / 5000\n",
    "        print(f'Iter idx {iter_idx}, Loss: {average_loss:.4f}, Accuracy: {accuracy:.2f}%')\n",
    "        crnt_loss = 0\n",
    "        correct_predictions = 0\n",
    "        total_predictions = 0\n",
    "    \n"
   ]
  },
  {
   "cell_type": "markdown",
   "metadata": {},
   "source": [
    "### Testing"
   ]
  },
  {
   "cell_type": "code",
   "execution_count": 12,
   "metadata": {},
   "outputs": [
    {
     "name": "stdout",
     "output_type": "stream",
     "text": [
      "output: tensor([[-8.5751, -0.3334,  3.2171,  4.3305,  3.4937, -0.8058,  3.9261, -2.2312,\n",
      "         -0.2675, -2.9268, -4.0410, -1.2341,  1.4257, -6.9930,  0.0607,  4.2448,\n",
      "         -2.9329, -6.0339]], grad_fn=<AddmmBackward0>)\n",
      "Dutch\n"
     ]
    }
   ],
   "source": [
    "\n",
    "test_name = 'jinping'\n",
    "test_name_tensor = nameToTensor(test_name)\n",
    "\n",
    "rnn_model.eval()\n",
    "hiddne = rnn_model.get_hidden()\n",
    "for char_idx in range(len(test_name)):\n",
    "    char_tensor = test_name_tensor[char_idx]\n",
    "    output, hidden = rnn_model(char_tensor[None,:],hidden)\n",
    "\n",
    "\n",
    "print(f\"output: {output}\")    \n",
    "predicted_index = torch.argmax(output, 1).item()\n",
    "print(country_list[predicted_index])\n"
   ]
  }
 ],
 "metadata": {
  "kernelspec": {
   "display_name": "py312",
   "language": "python",
   "name": "python3"
  },
  "language_info": {
   "codemirror_mode": {
    "name": "ipython",
    "version": 3
   },
   "file_extension": ".py",
   "mimetype": "text/x-python",
   "name": "python",
   "nbconvert_exporter": "python",
   "pygments_lexer": "ipython3",
   "version": "3.12.9"
  }
 },
 "nbformat": 4,
 "nbformat_minor": 2
}
